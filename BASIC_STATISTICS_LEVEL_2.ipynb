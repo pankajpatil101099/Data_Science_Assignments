{
  "cells": [
    {
      "cell_type": "markdown",
      "metadata": {
        "id": "KykvCo6B-ToN"
      },
      "source": [
        "Question no.1"
      ]
    },
    {
      "cell_type": "markdown",
      "metadata": {
        "id": "PKWI5Edu-iQu"
      },
      "source": [
        "1.The time required for servicing transmissions is normally distributed with  = 45 minutes and  = 8 minutes. The service manager plans to have work begin on the transmission of a customer’s car 10 minutes after the car is dropped off and the customer is told that the car will be ready within 1 hour from drop-off. What is the probability that the service manager cannot meet his commitment?"
      ]
    },
    {
      "cell_type": "code",
      "execution_count": 2,
      "metadata": {
        "id": "N_OOIaOr-QF-"
      },
      "outputs": [],
      "source": [
        "from scipy import stats"
      ]
    },
    {
      "cell_type": "code",
      "execution_count": 3,
      "metadata": {
        "colab": {
          "base_uri": "https://localhost:8080/"
        },
        "id": "hrLQCz5P-oNF",
        "outputId": "78242254-bebd-4910-e803-b45e7a777572"
      },
      "outputs": [
        {
          "output_type": "execute_result",
          "data": {
            "text/plain": [
              "0.26598552904870054"
            ]
          },
          "metadata": {},
          "execution_count": 3
        }
      ],
      "source": [
        "1-(stats.norm.cdf(50,loc=45,scale=8))"
      ]
    },
    {
      "cell_type": "markdown",
      "metadata": {
        "id": "g1SbAvydCgSY"
      },
      "source": [
        "Question no.2"
      ]
    },
    {
      "cell_type": "markdown",
      "metadata": {
        "id": "S7GvkTt3Cm89"
      },
      "source": [
        "2.The current age (in years) of 400 clerical employees at an insurance claims processing center is normally distributed with mean  = 38 and Standard deviation  =6. For each statement below, please specify True/False. If false, briefly explain why.\n",
        "\n",
        "A : More employees at the processing center are older than 44 than between 38 and 44."
      ]
    },
    {
      "cell_type": "code",
      "execution_count": 4,
      "metadata": {
        "colab": {
          "base_uri": "https://localhost:8080/"
        },
        "id": "21lrxAzLB4N7",
        "outputId": "5da5c477-7203-4244-84bd-03882279e33c"
      },
      "outputs": [
        {
          "output_type": "execute_result",
          "data": {
            "text/plain": [
              "0.5"
            ]
          },
          "metadata": {},
          "execution_count": 4
        }
      ],
      "source": [
        "#Probability that Age less thane 38\n",
        "Age_TO_38=(stats.norm.cdf(38,loc=38,scale=6))\n",
        "Age_TO_38"
      ]
    },
    {
      "cell_type": "code",
      "execution_count": 5,
      "metadata": {
        "colab": {
          "base_uri": "https://localhost:8080/"
        },
        "id": "8Rjvbi2NDobA",
        "outputId": "b4c5452d-37e1-477b-bc85-e3ad1df4b5a3"
      },
      "outputs": [
        {
          "output_type": "execute_result",
          "data": {
            "text/plain": [
              "0.8413447460685429"
            ]
          },
          "metadata": {},
          "execution_count": 5
        }
      ],
      "source": [
        "#Probability that Age less thane 44\n",
        "Age_TO_44=(stats.norm.cdf(44,loc=38,scale=6))\n",
        "Age_TO_44"
      ]
    },
    {
      "cell_type": "code",
      "execution_count": 6,
      "metadata": {
        "colab": {
          "base_uri": "https://localhost:8080/"
        },
        "id": "W_LgMrQAFPzX",
        "outputId": "1dd65aa4-512b-4256-872d-b74f59000bcc"
      },
      "outputs": [
        {
          "output_type": "execute_result",
          "data": {
            "text/plain": [
              "0.15865525393145707"
            ]
          },
          "metadata": {},
          "execution_count": 6
        }
      ],
      "source": [
        "#employee age more than 44 is \n",
        "Age_FROM_44=1-(stats.norm.cdf(44,loc=38,scale=6))\n",
        "Age_FROM_44"
      ]
    },
    {
      "cell_type": "code",
      "execution_count": 7,
      "metadata": {
        "colab": {
          "base_uri": "https://localhost:8080/"
        },
        "id": "137qogDkFiq6",
        "outputId": "480717f9-a887-4008-ff90-e450d1f6eea1"
      },
      "outputs": [
        {
          "output_type": "execute_result",
          "data": {
            "text/plain": [
              "0.3413447460685429"
            ]
          },
          "metadata": {},
          "execution_count": 7
        }
      ],
      "source": [
        "#Calculation part\n",
        "age_BETWEEN_38TO44=Age_TO_44-Age_TO_38\n",
        "age_BETWEEN_38TO44"
      ]
    },
    {
      "cell_type": "markdown",
      "metadata": {
        "id": "3VHc4mSrGbS-"
      },
      "source": [
        "B. A training program for employees under the age of 30 at the center would be expected to attract about 36 employees."
      ]
    },
    {
      "cell_type": "code",
      "execution_count": 8,
      "metadata": {
        "colab": {
          "base_uri": "https://localhost:8080/"
        },
        "id": "SJTCeZV9GEea",
        "outputId": "20f2f0af-7257-4f15-9b61-37fae4a2c6f2"
      },
      "outputs": [
        {
          "output_type": "execute_result",
          "data": {
            "text/plain": [
              "0.36944134018176367"
            ]
          },
          "metadata": {},
          "execution_count": 8
        }
      ],
      "source": [
        "(stats.norm.cdf(36,loc=38,scale=6))"
      ]
    },
    {
      "cell_type": "markdown",
      "metadata": {
        "id": "Sf4U90qTGuSx"
      },
      "source": [
        "Question no.4"
      ]
    },
    {
      "cell_type": "markdown",
      "metadata": {
        "id": "RT9sajp3G5P4"
      },
      "source": [
        "1.Let X ~ N(100, 202). Find two values, a and b, symmetric about the mean, such that the probability of the random variable taking a value between them is 0.99."
      ]
    },
    {
      "cell_type": "code",
      "execution_count": 9,
      "metadata": {
        "colab": {
          "base_uri": "https://localhost:8080/"
        },
        "id": "yUjCeuymGj3Y",
        "outputId": "e09ee922-5e42-40fc-a5e4-b98b25bccbc0"
      },
      "outputs": [
        {
          "output_type": "execute_result",
          "data": {
            "text/plain": [
              "151.516586070978"
            ]
          },
          "metadata": {},
          "execution_count": 9
        }
      ],
      "source": [
        "stats.norm.ppf(0.995,loc=100,scale=20)"
      ]
    },
    {
      "cell_type": "code",
      "execution_count": 10,
      "metadata": {
        "colab": {
          "base_uri": "https://localhost:8080/"
        },
        "id": "ZHR6EsxBJ1dv",
        "outputId": "e730a1a7-3688-4e17-daaf-a265092552d5"
      },
      "outputs": [
        {
          "output_type": "execute_result",
          "data": {
            "text/plain": [
              "48.483413929021985"
            ]
          },
          "metadata": {},
          "execution_count": 10
        }
      ],
      "source": [
        "stats.norm.ppf(0.005,loc=100,scale=20)"
      ]
    },
    {
      "cell_type": "markdown",
      "metadata": {
        "id": "P5Ixzi63LJ71"
      },
      "source": [
        "Question no.5"
      ]
    },
    {
      "cell_type": "markdown",
      "metadata": {
        "id": "35b3EsQ_Ldfs"
      },
      "source": [
        "1.Consider a company that has two different divisions. The annual profits from the two divisions are independent and have distributions Profit1 ~ N(5, 32) and Profit2 ~ N(7, 42) respectively. Both the profits are in "
      ]
    },
    {
      "cell_type": "code",
      "execution_count": 11,
      "metadata": {
        "colab": {
          "base_uri": "https://localhost:8080/"
        },
        "id": "YosdyfF1JyZX",
        "outputId": "49afd6a3-36b9-4f24-9881-a8940c55b0b6"
      },
      "outputs": [
        {
          "output_type": "execute_result",
          "data": {
            "text/plain": [
              "10.879891953620163"
            ]
          },
          "metadata": {},
          "execution_count": 11
        }
      ],
      "source": [
        "#A.\tSpecify a Rupee range (centered on the mean) such that it contains 95% probability for the annual profit of the company.\n",
        "uppertail=stats.norm.ppf(0.975, loc=5,scale=3)\n",
        "uppertail"
      ]
    },
    {
      "cell_type": "code",
      "execution_count": 12,
      "metadata": {
        "colab": {
          "base_uri": "https://localhost:8080/"
        },
        "id": "cpW2cENbP7-K",
        "outputId": "f64b27f2-528e-4148-af55-a745f81abb24"
      },
      "outputs": [
        {
          "output_type": "execute_result",
          "data": {
            "text/plain": [
              "-0.879891953620163"
            ]
          },
          "metadata": {},
          "execution_count": 12
        }
      ],
      "source": [
        "lowertail=stats.norm.ppf(0.025, loc=5, scale=3)\n",
        "lowertail"
      ]
    },
    {
      "cell_type": "code",
      "execution_count": 13,
      "metadata": {
        "colab": {
          "base_uri": "https://localhost:8080/"
        },
        "id": "aNH-6DlBQEvK",
        "outputId": "f5907126-cbf6-4205-e70f-f78e578225b3"
      },
      "outputs": [
        {
          "output_type": "stream",
          "name": "stdout",
          "text": [
            "Rupee range (Centered on the mean with 95% probability) is: from  -39.59513791290733  to  489.5951379129073\n"
          ]
        }
      ],
      "source": [
        "#data Rupee range (centered on the mean) such that it contains 95% probability for the annual profit of the company.\n",
        "print(\"Rupee range (Centered on the mean with 95% probability) is:\",\"from \",lowertail*45,\" to \",uppertail*45)"
      ]
    },
    {
      "cell_type": "code",
      "execution_count": 14,
      "metadata": {
        "colab": {
          "base_uri": "https://localhost:8080/"
        },
        "id": "3CfbSoSnQIS5",
        "outputId": "c8d16ae1-463c-4bd6-969e-488b0b1c4d3a"
      },
      "outputs": [
        {
          "output_type": "execute_result",
          "data": {
            "text/plain": [
              "0.049471468033648075"
            ]
          },
          "metadata": {},
          "execution_count": 14
        }
      ],
      "source": [
        "#B.\tSpecify the 5th percentile of profit (in Rupees) for the company\n",
        "fifth_percentile=stats.norm.cdf(0.05,loc=5,scale=3)\n",
        "fifth_percentile"
      ]
    },
    {
      "cell_type": "markdown",
      "source": [
        "Set 4 Question no.3"
      ],
      "metadata": {
        "id": "Sbg0JlkDkNn_"
      }
    },
    {
      "cell_type": "markdown",
      "source": [
        "1.Auditors at a small community bank randomly sample 100 withdrawal transactions made during the week at an ATM machine located near the bank’s main branch. Over the past 2 years, the average withdrawal amount has been 50dollar with a standard deviation of 40 dollar. Since audit investigations are typically expensive, the auditors decide to not initiate further investigations if the mean transaction amount of the sample is between 45 and 55 dollar. What is the probability that in any given week, there will be an investigation?"
      ],
      "metadata": {
        "id": "_zB3to3mkXSB"
      }
    },
    {
      "cell_type": "markdown",
      "source": [
        "For No investigation P(45<X<55)"
      ],
      "metadata": {
        "id": "LscZqI3xkeDm"
      }
    },
    {
      "cell_type": "markdown",
      "source": [
        "For Investigation 1-P(45<X<55)"
      ],
      "metadata": {
        "id": "5fKan2oLkfgL"
      }
    },
    {
      "cell_type": "code",
      "source": [
        "# find z-scores at x=45; z=(s_mean-P_mean)/(p_SD/sqrt(n))\n",
        "z=(45-50)/(40/100**0.5)\n",
        "z"
      ],
      "metadata": {
        "colab": {
          "base_uri": "https://localhost:8080/"
        },
        "id": "mDYfZDjHj3vJ",
        "outputId": "744bed80-ccd6-42d9-ef41-db3521fb20cb"
      },
      "execution_count": 15,
      "outputs": [
        {
          "output_type": "execute_result",
          "data": {
            "text/plain": [
              "-1.25"
            ]
          },
          "metadata": {},
          "execution_count": 15
        }
      ]
    },
    {
      "cell_type": "code",
      "source": [
        "# find z-scores at x=55; z=(s_mean-P_mean)/(p_SD/sqrt(n))\n",
        "z=(55-50)/(40/100**0.5)\n",
        "z"
      ],
      "metadata": {
        "colab": {
          "base_uri": "https://localhost:8080/"
        },
        "id": "2AM-hbWWkl_P",
        "outputId": "b38b0dd6-f296-4d90-ea73-5860fcdd1586"
      },
      "execution_count": 16,
      "outputs": [
        {
          "output_type": "execute_result",
          "data": {
            "text/plain": [
              "1.25"
            ]
          },
          "metadata": {},
          "execution_count": 16
        }
      ]
    },
    {
      "cell_type": "code",
      "source": [
        "ANS=0.5497382248301129-0.4502617751698871\n",
        "ANS"
      ],
      "metadata": {
        "colab": {
          "base_uri": "https://localhost:8080/"
        },
        "id": "tIekKa2gko-m",
        "outputId": "ab014653-2e72-4d7d-dca5-8fbe970c101f"
      },
      "execution_count": 17,
      "outputs": [
        {
          "output_type": "execute_result",
          "data": {
            "text/plain": [
              "0.09947644966022584"
            ]
          },
          "metadata": {},
          "execution_count": 17
        }
      ]
    },
    {
      "cell_type": "code",
      "source": [
        "# For No investigation P(45<X<55) using z_scores = P(X<50)-P(X<45)\n",
        "stats.norm.cdf(1.25)-stats.norm.cdf(-1.25)"
      ],
      "metadata": {
        "colab": {
          "base_uri": "https://localhost:8080/"
        },
        "id": "7fc-hqTskxjO",
        "outputId": "45e3e9b6-c036-4ea7-fedd-13b93e587201"
      },
      "execution_count": 18,
      "outputs": [
        {
          "output_type": "execute_result",
          "data": {
            "text/plain": [
              "0.7887004526662893"
            ]
          },
          "metadata": {},
          "execution_count": 18
        }
      ]
    },
    {
      "cell_type": "code",
      "source": [
        "stats.norm.interval(0.7887,loc=50,scale=40/(100**0.5))"
      ],
      "metadata": {
        "colab": {
          "base_uri": "https://localhost:8080/"
        },
        "id": "kzdyNA6IlYXB",
        "outputId": "ae314a32-44b4-42a9-ccde-5e0c9e46c029"
      },
      "execution_count": 19,
      "outputs": [
        {
          "output_type": "execute_result",
          "data": {
            "text/plain": [
              "(45.00000495667348, 54.99999504332652)"
            ]
          },
          "metadata": {},
          "execution_count": 19
        }
      ]
    },
    {
      "cell_type": "code",
      "source": [
        "# For Investigation 1-P(45<X<55)\n",
        "1-0.7887"
      ],
      "metadata": {
        "colab": {
          "base_uri": "https://localhost:8080/"
        },
        "id": "A2XVem3Uleyt",
        "outputId": "ff758b92-afa6-4de1-d313-767b71920895"
      },
      "execution_count": 20,
      "outputs": [
        {
          "output_type": "execute_result",
          "data": {
            "text/plain": [
              "0.21130000000000004"
            ]
          },
          "metadata": {},
          "execution_count": 20
        }
      ]
    },
    {
      "cell_type": "code",
      "source": [
        ""
      ],
      "metadata": {
        "id": "P_ftdHqxl3tQ"
      },
      "execution_count": null,
      "outputs": []
    }
  ],
  "metadata": {
    "colab": {
      "name": "BASIC_STATISTICS_LEVEL_2.ipynb",
      "provenance": []
    },
    "kernelspec": {
      "display_name": "Python 3",
      "name": "python3"
    },
    "language_info": {
      "name": "python"
    }
  },
  "nbformat": 4,
  "nbformat_minor": 0
}